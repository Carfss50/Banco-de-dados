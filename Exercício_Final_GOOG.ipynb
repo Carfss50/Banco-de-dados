{
  "nbformat": 4,
  "nbformat_minor": 0,
  "metadata": {
    "colab": {
      "name": "Exercício Final_GOOG.ipynb",
      "provenance": [],
      "collapsed_sections": [],
      "toc_visible": true
    },
    "kernelspec": {
      "name": "python3",
      "display_name": "Python 3"
    },
    "language_info": {
      "name": "python"
    }
  },
  "cells": [
    {
      "cell_type": "markdown",
      "metadata": {
        "id": "Amxyk9814Aap"
      },
      "source": [
        "# **Exercício Final da Disciplina - BIG DATA, DATA ANALYTICS E FERRAMENTAS DE ANÁLISE DE DADOS IOT**\n",
        "\n",
        "# Dado o dataset “GOOG.csv”, faça a análise dos dados e crie um modelo preditivo a partir de sua análise. Pode ser uma regressão ou classificação.\n",
        "\n",
        "Alunos:\n",
        "1.   Rafael de souza may\n", 
        "2.   Carlos felipe silva dos santos\n",
  
        Professor: FELLIPE SILVA MARTINS"\n"
       
      ]
    },
    {
      "cell_type": "markdown",
      "metadata": {
        "id": "a8aOqrdX57yS"
      },
      "source": [
        "**Carregando as bibliotecas para execução**"
      ]
    },
    {
      "cell_type": "code",
      "metadata": {
        "id": "iZpMYOsg30vX"
      },
      "source": [
        "import numpy as np\n",
        "import pandas as pd\n",
        "import matplotlib.pyplot as plt\n",
        "\n",
        "from sklearn.linear_model import LinearRegression\n",
        "from sklearn.model_selection import train_test_split"
      ],
      "execution_count": 248,
      "outputs": []
    },
    {
      "cell_type": "markdown",
      "metadata": {
        "id": "8Tq_IMCb6X4B"
      },
      "source": [
        "**Carregando Data Frame com a base no arquivo \"GOOG.csv\"**"
      ]
    },
    {
      "cell_type": "code",
      "metadata": {
        "id": "J-H2jp-06WHP"
      },
      "source": [
        "df_goog = pd.read_csv(\"GOOG.csv\", sep=',')\n",
        "\n",
        "# Listamos a dataframe carregado para uma visibilidade prévia de seu dados.\n",
        "df_goog.head(5)"
      ],
      "execution_count": null,
      "outputs": []
    },
    {
      "cell_type": "markdown",
      "metadata": {
        "id": "jbLvn-JL6W1B"
      },
      "source": [
        "**Estatísticas gerais da base de dados**"
      ]
    },
    {
      "cell_type": "code",
      "metadata": {
        "id": "f0yiGMhQ80Rq"
      },
      "source": [
        "print(\">>> Informações gerais por atributo do dataframe...\")\n",
        "print(\"--------------------------------------------------------------------\")\n",
        "df_goog.info()\n",
        "\n",
        "print(\"\\n\\n>>> Estatisticas gerais dos atributos numéricos do dataframe...\")\n",
        "print(\"--------------------------------------------------------------------\")\n",
        "df_goog.describe()"
      ],
      "execution_count": null,
      "outputs": []
    },
    {
      "cell_type": "markdown",
      "metadata": {
        "id": "voTi0mq6WtQL"
      },
      "source": [
        "**Verificamos se temos dados faltantes.**"
      ]
    },
    {
      "cell_type": "code",
      "metadata": {
        "id": "xr-ZWwj4Wsgj"
      },
      "source": [
        "# Verificamos se temos dados faltantes\n",
        "print(df_goog.isnull().mean())\n",
        "\n",
        "if df_goog.isnull().mean().sum() == 0:\n",
        "  print(\"\\nComo todos os resultados foram 'zero' não temos dados faltantes para serem tratados.\")\n"
      ],
      "execution_count": null,
      "outputs": []
    },
    {
      "cell_type": "markdown",
      "metadata": {
        "id": "0znmaRO1goui"
      },
      "source": [
        "**Plotamos um gráfico com o valor de fechamento da ação por data**"
      ]
    },
    {
      "cell_type": "code",
      "metadata": {
        "id": "73uPktSVq-41"
      },
      "source": [
        "# Copiamos as colunas a serem demonstradas\n",
        "df_adj_date = df_goog[[\"date\",\"close\"]].copy()\n",
        "# Ajustamos a data somente para yyyy-mm-dd\n",
        "df_adj_date[\"date\"] = pd.to_datetime(df_adj_date.date).dt.date\n",
        "\n",
        "plt.figure(figsize = (16,8))\n",
        "plt.title(\"Evolução das ações no decorrer do tempo\")\n",
        "plt.xlabel(\"Data de fechamento da ação\")\n",
        "plt.ylabel(\"Valor de fechamento\")\n",
        "plt.plot(df_adj_date.date, df_adj_date.close)\n",
        "plt.show()\n"
      ],
      "execution_count": null,
      "outputs": []
    },
    {
      "cell_type": "markdown",
      "metadata": {
        "id": "VMsLpOGP7mGo"
      },
      "source": [
        "# Regra de avaliação por regressão linear múltipla para o fechamento da ação com base nos valores de alta e baixa no dia."
      ]
    },
    {
      "cell_type": "markdown",
      "metadata": {
        "id": "z6vPv2ViYW-K"
      },
      "source": [
        "**Criação das bases de treinamento e teste.**"
      ]
    },
    {
      "cell_type": "code",
      "metadata": {
        "id": "Cz3svXD_SkQq"
      },
      "source": [
        "# Criamos as bases x e y de origem.\n",
        "x_df = df_goog[[\"date\", \"low\", \"high\"]]\n",
        "y_df = df_goog[[\"close\"]]\n",
        "\n",
        "# Criamos as bases a serem analisadas\n",
        "x_train, x_test, y_train, y_test = train_test_split(x_df, y_df, test_size=0.25, random_state=42)\n",
        "\n",
        "print(\"Bases de treinamento e testes após o split:\")\n",
        "print(\"x_train Shape : \", x_train.shape)\n",
        "print(\"x_test Shape  : \", x_test.shape)\n",
        "print(\"y_train Shape : \", y_train.shape)\n",
        "print(\"y_test Shape  : \", y_test.shape)\n"
      ],
      "execution_count": null,
      "outputs": []
    },
    {
      "cell_type": "markdown",
      "metadata": {
        "id": "j_n7MX9Rdw1G"
      },
      "source": [
        "**Utilizamos o modelo linear multiplo para treino**"
      ]
    },
    {
      "cell_type": "code",
      "metadata": {
        "id": "SKkhBDXTdxcd"
      },
      "source": [
        "# Criação do modelo de treino\n",
        "modelo = LinearRegression()\n",
        "modelo.fit(x_train[[\"low\",\"high\"]], y_train)\n",
        "\n",
        "# Avaliação do modelo obtido\n",
        "print(\"Avaliação do modelo obtido na regreção multipla:\")\n",
        "print(\"Score :\", modelo.score(x_train[[\"low\",\"high\"]], y_train))\n",
        "print(\"Intercept :\", modelo.intercept_)\n",
        "print(\"Coef :\", modelo.coef_)\n"
      ],
      "execution_count": null,
      "outputs": []
    },
    {
      "cell_type": "markdown",
      "metadata": {
        "id": "u4KPy5HnpoiX"
      },
      "source": [
        "**Geração da base de previsão, baseado nos treinamentos.**"
      ]
    },
    {
      "cell_type": "code",
      "metadata": {
        "id": "brWuvvYCplKJ"
      },
      "source": [
        "# Utilizando modelo treinado para predição\n",
        "previsao = modelo.predict(x_test[[\"low\",\"high\"]])\n",
        "print(previsao)"
      ],
      "execution_count": null,
      "outputs": []
    },
    {
      "cell_type": "markdown",
      "metadata": {
        "id": "DhtUTpfDxrio"
      },
      "source": [
        "**Plotamos os fechamentos após a predição, com base nos testes e comparamos com os valores originais.**"
      ]
    },
    {
      "cell_type": "code",
      "metadata": {
        "id": "ofovZG8IxniI"
      },
      "source": [
        "# Copiamos as colunas a serem demonstradas\n",
        "x_plot = x_test[[\"date\"]].copy()\n",
        "# Ajustamos a data somente para yyyy-mm-dd\n",
        "x_plot[\"date\"] = pd.to_datetime(x_plot.date).dt.date\n",
        "# Concatenamos a previsão junto a dataframe que será utilizado nos plots.\n",
        "x_plot[\"close\"] = previsao\n",
        "x_plot = x_plot.sort_index()\n",
        "\n",
        "# Plotamos o gráfico comparando os valores originaius e os valores treinados\n",
        "plt.figure(figsize = (16,8))\n",
        "plt.title(\"Comparativo das ações no decorrer do tempo entre os valores originais x treinados\")\n",
        "plt.xlabel(\"Data de fechamento da ação\")\n",
        "plt.ylabel(\"Valor de predito\")\n",
        "plt.plot(df_adj_date.date, df_adj_date.close, color='red', label=\"Valores originais\")\n",
        "plt.plot(x_plot.date, x_plot.close, color='green', label=\"Valores preditos\")\n",
        "plt.legend()\n",
        "plt.show()\n"
      ],
      "execution_count": null,
      "outputs": []
    },
    {
      "cell_type": "markdown",
      "metadata": {
        "id": "HQz7pvxH-Ix2"
      },
      "source": [
        "**Mostramos os outliers para os valores preditos.**"
      ]
    },
    {
      "cell_type": "code",
      "metadata": {
        "id": "PLCcklfy-JQP"
      },
      "source": [
        "# Plotamos o gráfico visualizando os outliers para os periodos de tempo\n",
        "plt.figure(figsize = (16,8))\n",
        "plt.title(\"Outliers dos valore preditos\")\n",
        "plt.xlabel(\"Data de fechamento da ação\")\n",
        "plt.ylabel(\"Valor de predito no decorrer do tempo\")\n",
        "plt.scatter(x_plot.date, x_plot.close, c = \"green\", marker = \"s\")\n",
        "plt.show()\n"
      ],
      "execution_count": null,
      "outputs": []
    },
    {
      "cell_type": "code",
      "metadata": {
        "id": "PN8QC0YlFVui"
      },
      "source": [
        "# Plotamos um bloxplot visualizando os outliers para os periodos de tempo\n",
        "plt.figure(figsize = (16,8))\n",
        "plt.title(\"Representação dos outliers do fechamento da ação\")\n",
        "plt.boxplot(x_plot.close)\n",
        "plt.xlabel(\"Valor de predito para o fechamento\")\n",
        "plt.ylabel(\"Montante\")\n",
        "plt.show()\n"
      ],
      "execution_count": null,
      "outputs": []
    }
  ]
}